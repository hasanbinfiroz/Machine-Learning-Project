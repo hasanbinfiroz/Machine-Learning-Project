{
 "cells": [
  {
   "cell_type": "code",
   "execution_count": 1,
   "metadata": {},
   "outputs": [
    {
     "name": "stderr",
     "output_type": "stream",
     "text": [
      "Using TensorFlow backend.\n"
     ]
    },
    {
     "name": "stdout",
     "output_type": "stream",
     "text": [
      "Found 3241 images belonging to 5 classes.\n",
      "Found 862 images belonging to 5 classes.\n"
     ]
    }
   ],
   "source": [
    "from keras.preprocessing.image import ImageDataGenerator\n",
    "from keras.applications.inception_v3 import InceptionV3, preprocess_input\n",
    "WIDTH = 299\n",
    "HEIGHT = 299\n",
    "BATCH_SIZE = 64\n",
    "TRAIN_DIR='./flowers/train'\n",
    "TEST_DIR='./flowers/val'\n",
    "# data prep\n",
    "train_datagen = ImageDataGenerator(\n",
    "    preprocessing_function=preprocess_input,\n",
    "    fill_mode='nearest')\n",
    "\n",
    "validation_datagen = ImageDataGenerator(\n",
    "    preprocessing_function=preprocess_input,\n",
    "    fill_mode='nearest')\n",
    "\n",
    "train_generator = train_datagen.flow_from_directory(\n",
    "    TRAIN_DIR,\n",
    "    target_size=(HEIGHT, WIDTH),\n",
    "\t\tbatch_size=BATCH_SIZE,\n",
    "\t\tclass_mode='categorical')\n",
    "    \n",
    "validation_generator = validation_datagen.flow_from_directory(\n",
    "    TEST_DIR,\n",
    "    target_size=(HEIGHT, WIDTH),\n",
    "    batch_size=BATCH_SIZE,\n",
    "    class_mode='categorical')"
   ]
  },
  {
   "cell_type": "code",
   "execution_count": 2,
   "metadata": {},
   "outputs": [
    {
     "name": "stdout",
     "output_type": "stream",
     "text": [
      "WARNING:tensorflow:From D:\\anaconda3\\envs\\CVp2\\lib\\site-packages\\tensorflow\\python\\framework\\op_def_library.py:263: colocate_with (from tensorflow.python.framework.ops) is deprecated and will be removed in a future version.\n",
      "Instructions for updating:\n",
      "Colocations handled automatically by placer.\n"
     ]
    }
   ],
   "source": [
    "from keras.models import Model\n",
    "from keras.layers import Dense, GlobalAveragePooling2D, Dropout\n",
    "\n",
    "\n",
    "CLASSES = 5\n",
    "    \n",
    "# setup model\n",
    "base_model = InceptionV3(weights='imagenet', include_top=False)"
   ]
  },
  {
   "cell_type": "code",
   "execution_count": 5,
   "metadata": {},
   "outputs": [
    {
     "data": {
      "text/plain": [
       "311"
      ]
     },
     "execution_count": 5,
     "metadata": {},
     "output_type": "execute_result"
    }
   ],
   "source": [
    "len(base_model.layers)"
   ]
  },
  {
   "cell_type": "code",
   "execution_count": 10,
   "metadata": {},
   "outputs": [
    {
     "data": {
      "text/plain": [
       "<keras.layers.merge.Concatenate at 0x2a393f5f550>"
      ]
     },
     "execution_count": 10,
     "metadata": {},
     "output_type": "execute_result"
    }
   ],
   "source": [
    "#base_model.layers.pop()"
   ]
  },
  {
   "cell_type": "code",
   "execution_count": 3,
   "metadata": {},
   "outputs": [],
   "source": [
    "\n",
    "\n",
    "x = base_model.output\n",
    "x = GlobalAveragePooling2D(name='avg_pool')(x)\n",
    "predictions = Dense(CLASSES, activation='softmax')(x)\n",
    "model = Model(inputs=base_model.input, outputs=predictions)\n",
    "   \n",
    "import keras\n",
    "# transfer learning\n",
    "for layer in base_model.layers:\n",
    "    layer.trainable = False\n",
    "Adam=keras.optimizers.Adam(lr=0.0001)\n",
    "      \n",
    "model.compile(optimizer=Adam,\n",
    "              loss='categorical_crossentropy',\n",
    "              metrics=['accuracy'])"
   ]
  },
  {
   "cell_type": "code",
   "execution_count": 4,
   "metadata": {},
   "outputs": [
    {
     "name": "stdout",
     "output_type": "stream",
     "text": [
      "WARNING:tensorflow:From D:\\anaconda3\\envs\\CVp2\\lib\\site-packages\\tensorflow\\python\\ops\\math_ops.py:3066: to_int32 (from tensorflow.python.ops.math_ops) is deprecated and will be removed in a future version.\n",
      "Instructions for updating:\n",
      "Use tf.cast instead.\n",
      "Epoch 1/50\n",
      "50/50 [==============================] - 51s 1s/step - loss: 1.5675 - acc: 0.3053 - val_loss: 1.4474 - val_acc: 0.3798\n",
      "Epoch 2/50\n",
      "50/50 [==============================] - 44s 881ms/step - loss: 1.3466 - acc: 0.5094 - val_loss: 1.3187 - val_acc: 0.4411\n",
      "Epoch 3/50\n",
      "50/50 [==============================] - 40s 808ms/step - loss: 1.1861 - acc: 0.6315 - val_loss: 1.2285 - val_acc: 0.4825\n",
      "Epoch 4/50\n",
      "50/50 [==============================] - 40s 798ms/step - loss: 1.0566 - acc: 0.7092 - val_loss: 1.2186 - val_acc: 0.4875\n",
      "Epoch 5/50\n",
      "50/50 [==============================] - 40s 807ms/step - loss: 0.9521 - acc: 0.7470 - val_loss: 1.1057 - val_acc: 0.5376\n",
      "Epoch 6/50\n",
      "50/50 [==============================] - 40s 807ms/step - loss: 0.8868 - acc: 0.7675 - val_loss: 1.1488 - val_acc: 0.4975\n",
      "Epoch 7/50\n",
      "50/50 [==============================] - 41s 824ms/step - loss: 0.8210 - acc: 0.7868 - val_loss: 1.0611 - val_acc: 0.5388\n",
      "Epoch 8/50\n",
      "50/50 [==============================] - 42s 841ms/step - loss: 0.7689 - acc: 0.7992 - val_loss: 1.0730 - val_acc: 0.5489\n",
      "Epoch 9/50\n",
      "50/50 [==============================] - 41s 821ms/step - loss: 0.7305 - acc: 0.8141 - val_loss: 1.0796 - val_acc: 0.5301\n",
      "Epoch 10/50\n",
      "50/50 [==============================] - 40s 809ms/step - loss: 0.6935 - acc: 0.8136 - val_loss: 1.0622 - val_acc: 0.5677\n",
      "Epoch 11/50\n",
      "50/50 [==============================] - 40s 810ms/step - loss: 0.6635 - acc: 0.8207 - val_loss: 1.0251 - val_acc: 0.5602\n",
      "Epoch 12/50\n",
      "50/50 [==============================] - 40s 809ms/step - loss: 0.6359 - acc: 0.8317 - val_loss: 1.0885 - val_acc: 0.5602\n",
      "Epoch 13/50\n",
      "50/50 [==============================] - 40s 808ms/step - loss: 0.6127 - acc: 0.8327 - val_loss: 1.0602 - val_acc: 0.5476\n",
      "Epoch 14/50\n",
      "50/50 [==============================] - 40s 810ms/step - loss: 0.5981 - acc: 0.8437 - val_loss: 1.0589 - val_acc: 0.5714\n",
      "Epoch 15/50\n",
      "50/50 [==============================] - 41s 816ms/step - loss: 0.5656 - acc: 0.8522 - val_loss: 1.0134 - val_acc: 0.5805\n",
      "Epoch 16/50\n",
      "50/50 [==============================] - 41s 811ms/step - loss: 0.5602 - acc: 0.8470 - val_loss: 1.0411 - val_acc: 0.5752\n",
      "Epoch 17/50\n",
      "50/50 [==============================] - 41s 811ms/step - loss: 0.5443 - acc: 0.8479 - val_loss: 1.0390 - val_acc: 0.5677\n",
      "Epoch 18/50\n",
      "50/50 [==============================] - 41s 811ms/step - loss: 0.5256 - acc: 0.8502 - val_loss: 1.0172 - val_acc: 0.5952\n",
      "Epoch 19/50\n",
      "50/50 [==============================] - 41s 811ms/step - loss: 0.5209 - acc: 0.8513 - val_loss: 0.9145 - val_acc: 0.6391\n",
      "Epoch 20/50\n",
      "50/50 [==============================] - 40s 805ms/step - loss: 0.5107 - acc: 0.8601 - val_loss: 1.0354 - val_acc: 0.5802\n",
      "Epoch 21/50\n",
      "50/50 [==============================] - 40s 797ms/step - loss: 0.4919 - acc: 0.8614 - val_loss: 1.0618 - val_acc: 0.5777\n",
      "Epoch 22/50\n",
      "50/50 [==============================] - 40s 797ms/step - loss: 0.4809 - acc: 0.8692 - val_loss: 0.9754 - val_acc: 0.6203\n",
      "Epoch 23/50\n",
      "50/50 [==============================] - 40s 796ms/step - loss: 0.4778 - acc: 0.8601 - val_loss: 1.0157 - val_acc: 0.5927\n",
      "Epoch 24/50\n",
      "50/50 [==============================] - 40s 797ms/step - loss: 0.4644 - acc: 0.8687 - val_loss: 0.9765 - val_acc: 0.6266\n",
      "Epoch 25/50\n",
      "50/50 [==============================] - 40s 798ms/step - loss: 0.4531 - acc: 0.8760 - val_loss: 1.0420 - val_acc: 0.5852\n",
      "Epoch 26/50\n",
      "50/50 [==============================] - 40s 797ms/step - loss: 0.4524 - acc: 0.8669 - val_loss: 0.9748 - val_acc: 0.6065\n",
      "Epoch 27/50\n",
      "50/50 [==============================] - 40s 797ms/step - loss: 0.4384 - acc: 0.8762 - val_loss: 1.0119 - val_acc: 0.6140\n",
      "Epoch 28/50\n",
      "50/50 [==============================] - 40s 801ms/step - loss: 0.4309 - acc: 0.8784 - val_loss: 0.9832 - val_acc: 0.6190\n",
      "Epoch 29/50\n",
      "50/50 [==============================] - 40s 804ms/step - loss: 0.4321 - acc: 0.8774 - val_loss: 0.9523 - val_acc: 0.6226\n",
      "Epoch 30/50\n",
      "50/50 [==============================] - 40s 798ms/step - loss: 0.4288 - acc: 0.8692 - val_loss: 0.9999 - val_acc: 0.6090\n",
      "Epoch 31/50\n",
      "50/50 [==============================] - 40s 796ms/step - loss: 0.4210 - acc: 0.8735 - val_loss: 1.0081 - val_acc: 0.6115\n",
      "Epoch 32/50\n",
      "50/50 [==============================] - 40s 794ms/step - loss: 0.4131 - acc: 0.8829 - val_loss: 1.0012 - val_acc: 0.6216\n",
      "Epoch 33/50\n",
      "50/50 [==============================] - 40s 790ms/step - loss: 0.4068 - acc: 0.8838 - val_loss: 0.9611 - val_acc: 0.6291\n",
      "Epoch 34/50\n",
      "50/50 [==============================] - 40s 790ms/step - loss: 0.4076 - acc: 0.8777 - val_loss: 0.9674 - val_acc: 0.6366\n",
      "Epoch 35/50\n",
      "50/50 [==============================] - 39s 790ms/step - loss: 0.3946 - acc: 0.8830 - val_loss: 0.9806 - val_acc: 0.6115\n",
      "Epoch 36/50\n",
      "50/50 [==============================] - 39s 790ms/step - loss: 0.3740 - acc: 0.8956 - val_loss: 0.9579 - val_acc: 0.6441\n",
      "Epoch 37/50\n",
      "50/50 [==============================] - 40s 790ms/step - loss: 0.3991 - acc: 0.8835 - val_loss: 0.9727 - val_acc: 0.6090\n",
      "Epoch 38/50\n",
      "50/50 [==============================] - 40s 791ms/step - loss: 0.3773 - acc: 0.8915 - val_loss: 0.9722 - val_acc: 0.6366\n",
      "Epoch 39/50\n",
      "50/50 [==============================] - 39s 789ms/step - loss: 0.3928 - acc: 0.8786 - val_loss: 0.9919 - val_acc: 0.6378\n",
      "Epoch 40/50\n",
      "50/50 [==============================] - 40s 795ms/step - loss: 0.3657 - acc: 0.8907 - val_loss: 0.9483 - val_acc: 0.6366\n",
      "Epoch 41/50\n",
      "50/50 [==============================] - 40s 792ms/step - loss: 0.3817 - acc: 0.8850 - val_loss: 0.9609 - val_acc: 0.6416\n",
      "Epoch 42/50\n",
      "50/50 [==============================] - 40s 792ms/step - loss: 0.3580 - acc: 0.8998 - val_loss: 0.9983 - val_acc: 0.6316\n",
      "Epoch 43/50\n",
      "50/50 [==============================] - 40s 799ms/step - loss: 0.3608 - acc: 0.8961 - val_loss: 0.9472 - val_acc: 0.6442\n",
      "Epoch 44/50\n",
      "50/50 [==============================] - 40s 793ms/step - loss: 0.3568 - acc: 0.8988 - val_loss: 1.0022 - val_acc: 0.6441\n",
      "Epoch 45/50\n",
      "50/50 [==============================] - 40s 793ms/step - loss: 0.3595 - acc: 0.8915 - val_loss: 0.9949 - val_acc: 0.6241\n",
      "Epoch 46/50\n",
      "50/50 [==============================] - 40s 794ms/step - loss: 0.3523 - acc: 0.8907 - val_loss: 0.9257 - val_acc: 0.6667\n",
      "Epoch 47/50\n",
      "50/50 [==============================] - 40s 794ms/step - loss: 0.3477 - acc: 0.8949 - val_loss: 1.0011 - val_acc: 0.6278\n",
      "Epoch 48/50\n",
      "50/50 [==============================] - 40s 792ms/step - loss: 0.3361 - acc: 0.9033 - val_loss: 0.9616 - val_acc: 0.6454\n",
      "Epoch 49/50\n",
      "50/50 [==============================] - 40s 792ms/step - loss: 0.3480 - acc: 0.8930 - val_loss: 0.9157 - val_acc: 0.6617\n",
      "Epoch 50/50\n",
      "50/50 [==============================] - 40s 793ms/step - loss: 0.3450 - acc: 0.9010 - val_loss: 0.8918 - val_acc: 0.6704\n"
     ]
    }
   ],
   "source": [
    "EPOCHS = 50\n",
    "BATCH_SIZE = 64\n",
    "STEPS_PER_EPOCH = 50\n",
    "VALIDATION_STEPS = 13\n",
    "History = model.fit_generator(\n",
    "    train_generator,\n",
    "    epochs=EPOCHS,\n",
    "    steps_per_epoch=STEPS_PER_EPOCH,\n",
    "    validation_data=validation_generator,\n",
    "    validation_steps=VALIDATION_STEPS)"
   ]
  },
  {
   "cell_type": "code",
   "execution_count": 7,
   "metadata": {},
   "outputs": [
    {
     "data": {
      "image/png": "[encoded data removed]",
      "text/plain": [
       "<Figure size 432x288 with 1 Axes>"
      ]
     },
     "metadata": {
      "needs_background": "light"
     },
     "output_type": "display_data"
    },
    {
     "data": {
      "image/png": "[encoded data removed]",
      "text/plain": [
       "<Figure size 432x288 with 1 Axes>"
      ]
     },
     "metadata": {
      "needs_background": "light"
     },
     "output_type": "display_data"
    }
   ],
   "source": [
    "import matplotlib.pyplot as plt\n",
    "from matplotlib import style\n",
    "plt.plot(History.history['loss'])\n",
    "plt.plot(History.history['val_loss'])\n",
    "plt.title('Model Loss')\n",
    "plt.ylabel('Loss')\n",
    "plt.xlabel('Epochs')\n",
    "plt.legend(['train', 'test'])\n",
    "plt.show()\n",
    "\n",
    "plt.plot(History.history['acc'])\n",
    "plt.plot(History.history['val_acc'])\n",
    "plt.title('Model Accuracy')\n",
    "plt.ylabel('Accuracy')\n",
    "plt.xlabel('Epochs')\n",
    "plt.legend(['train', 'test'])\n",
    "plt.show()"
   ]
  },
  {
   "cell_type": "code",
   "execution_count": 6,
   "metadata": {},
   "outputs": [
    {
     "ename": "NameError",
     "evalue": "name 'history' is not defined",
     "output_type": "error",
     "traceback": [
      "\u001b[1;31m---------------------------------------------------------------------------\u001b[0m",
      "\u001b[1;31mNameError\u001b[0m                                 Traceback (most recent call last)",
      "\u001b[1;32m<ipython-input-6-e90dd06889e5>\u001b[0m in \u001b[0;36m<module>\u001b[1;34m\u001b[0m\n\u001b[0;32m     14\u001b[0m  \u001b[0mplt\u001b[0m\u001b[1;33m.\u001b[0m\u001b[0myticks\u001b[0m\u001b[1;33m(\u001b[0m\u001b[1;33m[\u001b[0m\u001b[1;36m0.0\u001b[0m\u001b[1;33m,\u001b[0m\u001b[1;36m0.1\u001b[0m\u001b[1;33m,\u001b[0m\u001b[1;36m0.2\u001b[0m\u001b[1;33m,\u001b[0m\u001b[1;36m0.3\u001b[0m\u001b[1;33m,\u001b[0m\u001b[1;36m0.4\u001b[0m\u001b[1;33m,\u001b[0m\u001b[1;36m0.5\u001b[0m\u001b[1;33m,\u001b[0m\u001b[1;36m0.6\u001b[0m\u001b[1;33m,\u001b[0m\u001b[1;36m0.7\u001b[0m\u001b[1;33m,\u001b[0m\u001b[1;36m0.8\u001b[0m\u001b[1;33m,\u001b[0m\u001b[1;36m0.9\u001b[0m\u001b[1;33m,\u001b[0m\u001b[1;36m1\u001b[0m\u001b[1;33m]\u001b[0m\u001b[1;33m)\u001b[0m\u001b[1;33m\u001b[0m\u001b[1;33m\u001b[0m\u001b[0m\n\u001b[0;32m     15\u001b[0m \u001b[1;33m\u001b[0m\u001b[0m\n\u001b[1;32m---> 16\u001b[1;33m \u001b[0mplot_history\u001b[0m\u001b[1;33m(\u001b[0m\u001b[0mhistory\u001b[0m\u001b[1;33m)\u001b[0m\u001b[1;33m\u001b[0m\u001b[1;33m\u001b[0m\u001b[0m\n\u001b[0m",
      "\u001b[1;31mNameError\u001b[0m: name 'history' is not defined"
     ]
    }
   ],
   "source": [
    "import matplotlib.pyplot as plt\n",
    "import numpy as np\n",
    "%matplotlib inline\n",
    "def plot_history(History):\n",
    " plt.figure()\n",
    " plt.xlabel('Epoch')\n",
    " plt.ylabel('Accuracy')\n",
    " plt.plot(history.epoch, np.array(History.history['acc']),\n",
    " label='Train Accuracy')\n",
    " plt.plot(history.epoch, np.array(History.history['val_acc']),\n",
    " label = 'Validation Accuracy')\n",
    " plt.legend()\n",
    " #plt.ylim([0, 1.5])\n",
    " plt.yticks([0.0,0.1,0.2,0.3,0.4,0.5,0.6,0.7,0.8,0.9,1])    \n",
    "    \n",
    "plot_history(history)"
   ]
  },
  {
   "cell_type": "code",
   "execution_count": null,
   "metadata": {},
   "outputs": [],
   "source": []
  }
 ],
 "metadata": {
  "kernelspec": {
   "display_name": "Python 3",
   "language": "python",
   "name": "python3"
  },
  "language_info": {
   "codemirror_mode": {
    "name": "ipython",
    "version": 3
   },
   "file_extension": ".py",
   "mimetype": "text/x-python",
   "name": "python",
   "nbconvert_exporter": "python",
   "pygments_lexer": "ipython3",
   "version": "3.7.3"
  }
 },
 "nbformat": 4,
 "nbformat_minor": 2
}
